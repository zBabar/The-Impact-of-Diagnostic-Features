{
 "cells": [
  {
   "cell_type": "code",
   "execution_count": 1,
   "id": "5f01765b",
   "metadata": {},
   "outputs": [],
   "source": [
    "import pandas as pd\n",
    "import numpy as np\n",
    "import tensorflow.keras as K\n",
    "import tensorflow as tf\n",
    "from tensorflow.keras.preprocessing import image\n",
    "import pickle\n",
    "from tqdm import tqdm\n",
    "#from tensorflow.keras.applications.vgg19 import preprocess_input\n",
    "from tensorflow.keras.optimizers import Adam\n",
    "from tensorflow.keras.applications.resnet import preprocess_input\n",
    "from tensorflow.keras.applications import ResNet101\n",
    "from tensorflow.keras.utils import to_categorical\n",
    "from sklearn.model_selection import KFold\n",
    "from sklearn.preprocessing import LabelEncoder\n",
    "\n",
    "from tensorflow.keras.models import Model, Sequential\n",
    "#print(tf.config.list_physical_devices('GPU'))"
   ]
  },
  {
   "cell_type": "code",
   "execution_count": 2,
   "id": "27d6f526",
   "metadata": {},
   "outputs": [],
   "source": [
    "base_model = ResNet101(include_top = False, weights='imagenet',input_shape=(224,224,3), pooling = 'avg')\n",
    "model = Model(base_model.input, base_model.layers[-4].output)"
   ]
  },
  {
   "cell_type": "code",
   "execution_count": 3,
   "id": "d7e26cb2-d666-4f40-ae7d-403f57e21509",
   "metadata": {},
   "outputs": [],
   "source": [
    "# model.summary()"
   ]
  },
  {
   "cell_type": "code",
   "execution_count": 4,
   "id": "ddcb4438",
   "metadata": {},
   "outputs": [
    {
     "data": {
      "text/plain": [
       "Index(['id', 'study_id', 'subject_id', 'report', 'image_path', 'split'], dtype='object')"
      ]
     },
     "execution_count": 4,
     "metadata": {},
     "output_type": "execute_result"
    }
   ],
   "source": [
    "\n",
    "data = pd.read_json('/home/zaheer/pythonCode/MIMIC_CXR/mimic_10k_all.json')\n",
    "images_path='/home/zaheer/pythonCode/R2Gen-main/data/mimic/images/'\n",
    "\n",
    "data.columns"
   ]
  },
  {
   "cell_type": "code",
   "execution_count": 5,
   "id": "058960aa-567c-437f-af99-aed2fb44f9c3",
   "metadata": {},
   "outputs": [],
   "source": [
    "image_features = {}\n",
    "for images in data['image_path']:\n",
    "    image_path=images_path+images[0]\n",
    "    img = image.load_img(image_path, target_size=(224, 224,3))\n",
    "    # Convert PIL image to numpy array of 3-dimensions\n",
    "    x = image.img_to_array(img)\n",
    "    #x=x/255.0\n",
    "    # Add one more dimension\n",
    "#         x = np.expand_dims(x, axis=0)\n",
    "\n",
    "    x=preprocess_input(x)\n",
    "    x = np.reshape(x,(-1,224,224,3))\n",
    "    feature = model.predict(x)\n",
    "    \n",
    "    image_features[images[0]] = feature"
   ]
  },
  {
   "cell_type": "code",
   "execution_count": 6,
   "id": "4558ddf8-8cbc-43ba-970d-89720d81c314",
   "metadata": {},
   "outputs": [],
   "source": [
    "path='/home/zaheer/pythonCode/MIMIC_CXR/'"
   ]
  },
  {
   "cell_type": "code",
   "execution_count": null,
   "id": "9e693791-c552-4537-9cbd-7971dfe117c8",
   "metadata": {},
   "outputs": [],
   "source": [
    "with open(path+'mimic_resnet_image_features.pkl','wb') as file:\n",
    "    pickle.dump(image_features, file, protocol=2)"
   ]
  },
  {
   "cell_type": "code",
   "execution_count": 2,
   "id": "9afbb4aa-1af3-44b1-be9f-2e8983631d69",
   "metadata": {},
   "outputs": [
    {
     "name": "stdout",
     "output_type": "stream",
     "text": [
      "[NbConvertApp] Converting notebook mimic_feature_extraction_resnet.ipynb to script\n",
      "[NbConvertApp] Writing 1860 bytes to mimic_feature_extraction_resnet.py\n"
     ]
    }
   ],
   "source": [
    "!jupyter nbconvert --to script mimic_feature_extraction_resnet.ipynb"
   ]
  },
  {
   "cell_type": "code",
   "execution_count": null,
   "id": "10547f89-64b1-472c-8134-e744190bdb76",
   "metadata": {},
   "outputs": [],
   "source": []
  }
 ],
 "metadata": {
  "kernelspec": {
   "display_name": "Python 3",
   "language": "python",
   "name": "python3"
  },
  "language_info": {
   "codemirror_mode": {
    "name": "ipython",
    "version": 3
   },
   "file_extension": ".py",
   "mimetype": "text/x-python",
   "name": "python",
   "nbconvert_exporter": "python",
   "pygments_lexer": "ipython3",
   "version": "3.6.13"
  }
 },
 "nbformat": 4,
 "nbformat_minor": 5
}
