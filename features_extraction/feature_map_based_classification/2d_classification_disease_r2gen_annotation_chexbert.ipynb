{
 "cells": [
  {
   "cell_type": "code",
   "execution_count": 31,
   "id": "ef3e1cee",
   "metadata": {},
   "outputs": [],
   "source": [
    "import pandas as pd\n",
    "import pickle\n",
    "import numpy as np\n",
    "import tensorflow as tf\n",
    "from tensorflow.keras import layers\n",
    "from sklearn.metrics import f1_score\n",
    "import json"
   ]
  },
  {
   "cell_type": "code",
   "execution_count": 32,
   "id": "c51ad65c",
   "metadata": {},
   "outputs": [],
   "source": [
    "#X = pd.read_csv('./IU_Xray/clean_data.csv')\n",
    "\n",
    "#Y = pd.read_csv('./IU_Xray/labeled_reports.csv')\n",
    "\n",
    "#Y['report_id'] = X['uid'].apply(lambda x: 'CXR'+str(x))\n",
    "\n",
    "#Y = Y[['report_id','Enlarged Cardiomediastinum', 'Cardiomegaly',\n",
    "#       'Lung Opacity', 'Lung Lesion', 'Edema', 'Consolidation', 'Pneumonia',\n",
    "#       'Atelectasis', 'Pneumothorax', 'Pleural Effusion', 'Pleural Other',\n",
    "#       'Fracture', 'Support Devices', 'No Finding']]#.to_csv('chexbert_labels.csv')\n",
    "\n",
    "#Y = Y.fillna(0)\n",
    "#Y.replace(-1,1)\n",
    "#Y.to_csv('./IU_Xray/chexbert_labels.csv')"
   ]
  },
  {
   "cell_type": "code",
   "execution_count": 33,
   "id": "a434a808-39af-48fc-8ca5-71683a90fe73",
   "metadata": {},
   "outputs": [],
   "source": [
    "labels_path = '../../IU_data/chexbert_labeling/'"
   ]
  },
  {
   "cell_type": "code",
   "execution_count": 34,
   "id": "34883c74",
   "metadata": {},
   "outputs": [],
   "source": [
    "X = pd.read_csv(labels_path+'report_impressions.csv')\n",
    "\n",
    "Y = pd.read_csv(labels_path+'labeled_reports.csv')\n",
    "\n",
    "Y['report_id'] = X['Id']\n",
    "\n",
    "Y = Y[['report_id','Enlarged Cardiomediastinum', 'Cardiomegaly',\n",
    "      'Lung Opacity', 'Lung Lesion', 'Edema', 'Consolidation', 'Pneumonia',\n",
    "      'Atelectasis', 'Pneumothorax', 'Pleural Effusion', 'Pleural Other',\n",
    "      'Fracture', 'Support Devices', 'No Finding']]#.to_csv('chexbert_labels.csv')\n",
    "\n",
    "Y = Y.fillna(0)\n",
    "Y = Y.replace(-1,1)\n",
    "Y.to_csv(labels_path+'chexbert_labels.csv')"
   ]
  },
  {
   "cell_type": "code",
   "execution_count": 35,
   "id": "5bd23179-d007-493e-8b12-7e76b967c926",
   "metadata": {},
   "outputs": [
    {
     "data": {
      "text/plain": [
       "(3921, 15)"
      ]
     },
     "execution_count": 35,
     "metadata": {},
     "output_type": "execute_result"
    }
   ],
   "source": [
    "Y.shape"
   ]
  },
  {
   "cell_type": "code",
   "execution_count": 53,
   "id": "a2c63dcd-542a-4d1e-a87c-da33f5bf48a4",
   "metadata": {},
   "outputs": [
    {
     "data": {
      "text/plain": [
       "331"
      ]
     },
     "execution_count": 53,
     "metadata": {},
     "output_type": "execute_result"
    }
   ],
   "source": [
    "len(Y[Y['Cardiomegaly']==1]['report_id'].tolist())"
   ]
  },
  {
   "cell_type": "code",
   "execution_count": 54,
   "id": "858414a7-637a-4c6a-a924-8fb0a4c11e8a",
   "metadata": {},
   "outputs": [
    {
     "data": {
      "text/plain": [
       "289"
      ]
     },
     "execution_count": 54,
     "metadata": {},
     "output_type": "execute_result"
    }
   ],
   "source": [
    "sum(Y.sum(axis=1)==0)"
   ]
  },
  {
   "cell_type": "code",
   "execution_count": 55,
   "id": "762edb6d-704d-4804-9471-448b8e4ffda4",
   "metadata": {},
   "outputs": [
    {
     "data": {
      "text/plain": [
       "report_id                     CXR3967CXR3188CXR1328CXR2982CXR738CXR171CXR127...\n",
       "Enlarged Cardiomediastinum                                                   75\n",
       "Cardiomegaly                                                                331\n",
       "Lung Opacity                                                                399\n",
       "Lung Lesion                                                                 132\n",
       "Edema                                                                       101\n",
       "Consolidation                                                                37\n",
       "Pneumonia                                                                   120\n",
       "Atelectasis                                                                 296\n",
       "Pneumothorax                                                                 24\n",
       "Pleural Effusion                                                            164\n",
       "Pleural Other                                                                46\n",
       "Fracture                                                                     44\n",
       "Support Devices                                                              86\n",
       "No Finding                                                                 2611\n",
       "dtype: object"
      ]
     },
     "execution_count": 55,
     "metadata": {},
     "output_type": "execute_result"
    }
   ],
   "source": [
    "Y.sum()"
   ]
  },
  {
   "cell_type": "code",
   "execution_count": 56,
   "id": "87e70296-857c-4885-aa6b-8aea098d39b0",
   "metadata": {},
   "outputs": [],
   "source": [
    "path='/media/zaheer/Data/Image_Text_Datasets/IU_Xray/latest/One_Image_norm_abnorm_split/r2gen_annotations/'"
   ]
  },
  {
   "cell_type": "code",
   "execution_count": 57,
   "id": "be10f216",
   "metadata": {},
   "outputs": [],
   "source": [
    "with open(path+'images_features_2d_r2gen.pickle','rb') as features:\n",
    "#with open(path+'densenet_report_features.pkl','rb') as features:\n",
    "    data=pickle.load(features)"
   ]
  },
  {
   "cell_type": "code",
   "execution_count": 58,
   "id": "c5c345cb",
   "metadata": {},
   "outputs": [
    {
     "data": {
      "text/plain": [
       "(1, 7, 7, 1024)"
      ]
     },
     "execution_count": 58,
     "metadata": {},
     "output_type": "execute_result"
    }
   ],
   "source": [
    "data['CXR1'][0].shape"
   ]
  },
  {
   "cell_type": "code",
   "execution_count": 59,
   "id": "8df071fc-5ad5-4896-a4fd-565150766601",
   "metadata": {},
   "outputs": [],
   "source": [
    "feature_shape = 1024"
   ]
  },
  {
   "cell_type": "code",
   "execution_count": 66,
   "id": "b2756f90-b842-4feb-99cd-fc3aa27eeac3",
   "metadata": {},
   "outputs": [],
   "source": [
    "tags = pd.read_csv(labels_path+'chexbert_labels.csv')\n",
    "    \n",
    "pneumonia_reports = tags[tags['Atelectasis']==1]['report_id'].tolist()"
   ]
  },
  {
   "cell_type": "code",
   "execution_count": 67,
   "id": "91f7da64-4ad4-4451-8df5-4fbfc2afdb9b",
   "metadata": {},
   "outputs": [
    {
     "data": {
      "text/plain": [
       "296"
      ]
     },
     "execution_count": 67,
     "metadata": {},
     "output_type": "execute_result"
    }
   ],
   "source": [
    "len(pneumonia_reports)"
   ]
  },
  {
   "cell_type": "code",
   "execution_count": 68,
   "id": "404204a0",
   "metadata": {},
   "outputs": [
    {
     "name": "stdout",
     "output_type": "stream",
     "text": [
      "143\n",
      "18\n",
      "31\n"
     ]
    }
   ],
   "source": [
    "def clean_r2gen_annotations():\n",
    "    \n",
    "    tags = pd.read_csv(labels_path+'chexbert_labels.csv')\n",
    "    \n",
    "    reports = tags['report_id'].tolist()\n",
    "    \n",
    "    #print(reports)\n",
    "    \n",
    "    with open(path+'new_annotation.json', 'rb') as f:\n",
    "        full_records = json.load(f)\n",
    "\n",
    "    splits=['train','val','test']\n",
    "    \n",
    "    new_images_records={}\n",
    "    \n",
    "    for s in splits:\n",
    "        new_records=[]\n",
    "        records = full_records[s]\n",
    "        for r in records:\n",
    "            if r['image_path'][0].split('_')[0] in pneumonia_reports: \n",
    "                new_records.append(r)\n",
    "        print(len(new_records))        \n",
    "        new_images_records[s]=new_records\n",
    "        \n",
    "    with open(path+'Atelectasis_annotation.json', 'w') as f:\n",
    "        json.dump(new_images_records , f, ensure_ascii = False )\n",
    "        \n",
    "    return new_images_records\n",
    "\n",
    "annot = clean_r2gen_annotations()\n",
    "\n",
    "def fetch_tags(image_id, tags):\n",
    "\n",
    "    new_tags=[]\n",
    "    image_ids =[]\n",
    "\n",
    "    for image in image_id:\n",
    "        \n",
    "        \n",
    "        tag=(tags[tags.report_id == image.split('_')[0]]['Pneumonia'])\n",
    "        if tag.shape[0] != 0:\n",
    "            tag = tag.values.tolist()[0]\n",
    "            image_ids.append(image)\n",
    "            new_tags.append(tag)\n",
    "\n",
    "    return image_ids, new_tags\n",
    "\n",
    "\n",
    "def convert_r2gen_annotations():\n",
    "    with open(path+'pneumonia_annotation.json', 'rb') as f:\n",
    "        full_records = json.load(f)\n",
    "\n",
    "    splits = ['train','val','test']\n",
    "    \n",
    "    new_images_records = {}\n",
    "    \n",
    "    for s in splits:\n",
    "        images=[]\n",
    "        records = full_records[s]\n",
    "        for r in records:\n",
    "            for image in r['image_path']:\n",
    "                images.append(image)\n",
    "                \n",
    "        new_images_records[s]=images\n",
    "    return new_images_records\n",
    "\n",
    "convert_r2gen_annotations()\n",
    "\n",
    "def load_preprocess_data():\n",
    "    tags = pd.read_csv(labels_path+'chexbert_labels.csv')\n",
    "    converted_records = convert_r2gen_annotations()\n",
    "    x_train = converted_records['train']\n",
    "    x_test = converted_records['test']\n",
    "    x_val = converted_records['val']\n",
    "    #print(train.shape, train.columns)\n",
    "\n",
    "    x_train, train_tags=fetch_tags(x_train,tags)\n",
    "    #print(train_tags)\n",
    "    #y_train = mlb.fit_transform([train_tags])\n",
    "    y_train=np.array(train_tags)\n",
    "    #print(y_train)\n",
    "\n",
    "    #print(y_train.head())\n",
    "    \n",
    "    \n",
    "    x_test, test_tags=fetch_tags(x_test,tags)\n",
    "    y_test = np.array(test_tags)\n",
    "    \n",
    "    \n",
    "    x_val, val_tags=fetch_tags(x_val,tags)\n",
    "    y_val = np.array(val_tags)\n",
    "    return x_train,y_train,x_test,y_test, x_val,y_val\n",
    "\n"
   ]
  },
  {
   "cell_type": "code",
   "execution_count": 12,
   "id": "5ef96af9",
   "metadata": {},
   "outputs": [],
   "source": [
    "def load_features(split):\n",
    "    features = []#np.empty((0,7,7,1024))\n",
    "    \n",
    "    for image in split:\n",
    "        #print(image)\n",
    "        report_id = image.split('_')[0]\n",
    "        image_id = image.split('.')[0].split('/')[1]\n",
    "        features.append(data[report_id][int(image_id)])\n",
    "    features=np.array(features)\n",
    "    features=np.reshape(features,(-1,49,feature_shape))\n",
    "    \n",
    "    return features"
   ]
  },
  {
   "cell_type": "code",
   "execution_count": 13,
   "id": "ce7c8305",
   "metadata": {},
   "outputs": [],
   "source": [
    "def class_model(n):\n",
    "    model = tf.keras.Sequential()\n",
    "    model.add(layers.Input(shape=(49,feature_shape)))\n",
    "    \n",
    "    model.add(layers.GlobalAveragePooling1D())\n",
    "    #model.add(layers.Dense(128,activation='relu'))\n",
    "    #model.add(layers.LeakyReLU(alpha=0.05))\n",
    "    #model.add(layers.Dense(64,activation='relu'))\n",
    "    #model.add(layers.Dropout(0.4))\n",
    "    model.add(layers.Dense(n, activation=\"sigmoid\"))\n",
    "\n",
    "    model.summary()\n",
    "    \n",
    "    return model\n",
    "\n"
   ]
  },
  {
   "cell_type": "code",
   "execution_count": 14,
   "id": "9f905bea",
   "metadata": {},
   "outputs": [],
   "source": [
    "images_train,y_train,images_test,y_test, images_val,y_val=load_preprocess_data()"
   ]
  },
  {
   "cell_type": "code",
   "execution_count": 15,
   "id": "bf412a48",
   "metadata": {},
   "outputs": [],
   "source": [
    "\n",
    "train_features=load_features(images_train)\n",
    "test_features=load_features(images_test)\n",
    "val_features=load_features(images_val)"
   ]
  },
  {
   "cell_type": "code",
   "execution_count": 16,
   "id": "d533823d",
   "metadata": {},
   "outputs": [
    {
     "data": {
      "text/plain": [
       "(4126,)"
      ]
     },
     "execution_count": 16,
     "metadata": {},
     "output_type": "execute_result"
    }
   ],
   "source": [
    "y_train.shape"
   ]
  },
  {
   "cell_type": "code",
   "execution_count": 17,
   "id": "1733cef8",
   "metadata": {},
   "outputs": [
    {
     "name": "stdout",
     "output_type": "stream",
     "text": [
      "Model: \"sequential\"\n",
      "_________________________________________________________________\n",
      "Layer (type)                 Output Shape              Param #   \n",
      "=================================================================\n",
      "global_average_pooling1d (Gl (None, 1024)              0         \n",
      "_________________________________________________________________\n",
      "dense (Dense)                (None, 1)                 1025      \n",
      "=================================================================\n",
      "Total params: 1,025\n",
      "Trainable params: 1,025\n",
      "Non-trainable params: 0\n",
      "_________________________________________________________________\n"
     ]
    }
   ],
   "source": [
    "model=class_model(1)"
   ]
  },
  {
   "cell_type": "code",
   "execution_count": 18,
   "id": "dbb2e26a",
   "metadata": {},
   "outputs": [
    {
     "name": "stdout",
     "output_type": "stream",
     "text": [
      "WARNING:tensorflow:`epsilon` argument is deprecated and will be removed, use `min_delta` instead.\n",
      "Train on 4126 samples, validate on 592 samples\n",
      "Epoch 1/100\n",
      "4126/4126 [==============================] - 1s 363us/sample - loss: 0.0854 - precision: 0.0000e+00 - recall: 0.0000e+00 - val_loss: -0.0398 - val_precision: 0.0000e+00 - val_recall: 0.0000e+00\n",
      "Epoch 2/100\n",
      "4126/4126 [==============================] - 1s 180us/sample - loss: 0.0309 - precision: 0.0000e+00 - recall: 0.0000e+00 - val_loss: -0.0554 - val_precision: 0.0000e+00 - val_recall: 0.0000e+00\n",
      "Epoch 3/100\n",
      "4126/4126 [==============================] - 1s 178us/sample - loss: 0.0271 - precision: 0.0000e+00 - recall: 0.0000e+00 - val_loss: -0.0601 - val_precision: 0.0000e+00 - val_recall: 0.0000e+00\n",
      "Epoch 4/100\n",
      "4126/4126 [==============================] - 1s 184us/sample - loss: 0.0237 - precision: 0.0000e+00 - recall: 0.0000e+00 - val_loss: -0.0678 - val_precision: 0.0000e+00 - val_recall: 0.0000e+00\n",
      "Epoch 5/100\n",
      "4126/4126 [==============================] - 1s 184us/sample - loss: 0.0220 - precision: 0.0000e+00 - recall: 0.0000e+00 - val_loss: -0.0676 - val_precision: 0.0000e+00 - val_recall: 0.0000e+00\n",
      "Epoch 6/100\n",
      "4126/4126 [==============================] - 1s 182us/sample - loss: 0.0186 - precision: 0.0000e+00 - recall: 0.0000e+00 - val_loss: -0.0669 - val_precision: 0.0000e+00 - val_recall: 0.0000e+00\n",
      "Epoch 7/100\n",
      "4126/4126 [==============================] - 1s 176us/sample - loss: 0.0153 - precision: 0.0000e+00 - recall: 0.0000e+00 - val_loss: -0.0690 - val_precision: 0.0000e+00 - val_recall: 0.0000e+00\n",
      "Epoch 8/100\n",
      "4126/4126 [==============================] - 1s 181us/sample - loss: 0.0134 - precision: 0.0000e+00 - recall: 0.0000e+00 - val_loss: -0.0679 - val_precision: 0.0000e+00 - val_recall: 0.0000e+00\n",
      "Epoch 9/100\n",
      "4126/4126 [==============================] - 1s 185us/sample - loss: 0.0106 - precision: 0.0000e+00 - recall: 0.0000e+00 - val_loss: -0.0676 - val_precision: 0.0000e+00 - val_recall: 0.0000e+00\n",
      "Epoch 10/100\n",
      "4126/4126 [==============================] - 1s 193us/sample - loss: 0.0080 - precision: 0.3333 - recall: 0.0078 - val_loss: -0.0753 - val_precision: 0.0000e+00 - val_recall: 0.0000e+00\n",
      "Epoch 11/100\n",
      "4126/4126 [==============================] - 1s 187us/sample - loss: 0.0065 - precision: 0.0000e+00 - recall: 0.0000e+00 - val_loss: -0.0701 - val_precision: 0.0000e+00 - val_recall: 0.0000e+00\n",
      "Epoch 12/100\n",
      "4048/4126 [============================>.] - ETA: 0s - loss: 0.0041 - precision: 0.2500 - recall: 0.0079WARNING:tensorflow:Early stopping conditioned on metric `val_loss` which is not available. Available metrics are: loss,precision,recall\n",
      "4126/4126 [==============================] - 1s 246us/sample - loss: 0.0046 - precision: 0.2500 - recall: 0.0078\n"
     ]
    },
    {
     "ename": "KeyboardInterrupt",
     "evalue": "",
     "output_type": "error",
     "traceback": [
      "\u001b[0;31m---------------------------------------------------------------------------\u001b[0m",
      "\u001b[0;31mKeyboardInterrupt\u001b[0m                         Traceback (most recent call last)",
      "\u001b[0;32m<ipython-input-18-8ee547b1eea1>\u001b[0m in \u001b[0;36m<module>\u001b[0;34m()\u001b[0m\n\u001b[1;32m      4\u001b[0m ])\n\u001b[1;32m      5\u001b[0m \u001b[0;34m\u001b[0m\u001b[0m\n\u001b[0;32m----> 6\u001b[0;31m \u001b[0mmodel\u001b[0m\u001b[0;34m.\u001b[0m\u001b[0mfit\u001b[0m\u001b[0;34m(\u001b[0m\u001b[0mtrain_features\u001b[0m\u001b[0;34m,\u001b[0m \u001b[0my_train\u001b[0m\u001b[0;34m,\u001b[0m \u001b[0mepochs\u001b[0m\u001b[0;34m=\u001b[0m\u001b[0;36m100\u001b[0m\u001b[0;34m,\u001b[0m \u001b[0mcallbacks\u001b[0m\u001b[0;34m=\u001b[0m\u001b[0;34m[\u001b[0m\u001b[0mearlyStopping\u001b[0m\u001b[0;34m]\u001b[0m\u001b[0;34m,\u001b[0m\u001b[0mvalidation_data\u001b[0m\u001b[0;34m=\u001b[0m\u001b[0;34m(\u001b[0m\u001b[0mval_features\u001b[0m\u001b[0;34m,\u001b[0m \u001b[0my_val\u001b[0m\u001b[0;34m)\u001b[0m\u001b[0;34m,\u001b[0m \u001b[0mbatch_size\u001b[0m\u001b[0;34m=\u001b[0m\u001b[0;36m16\u001b[0m\u001b[0;34m)\u001b[0m\u001b[0;34m\u001b[0m\u001b[0;34m\u001b[0m\u001b[0m\n\u001b[0m\u001b[1;32m      7\u001b[0m \u001b[0;34m\u001b[0m\u001b[0m\n\u001b[1;32m      8\u001b[0m \u001b[0mtest_tags\u001b[0m\u001b[0;34m=\u001b[0m\u001b[0mmodel\u001b[0m\u001b[0;34m.\u001b[0m\u001b[0mpredict\u001b[0m\u001b[0;34m(\u001b[0m\u001b[0mtest_features\u001b[0m\u001b[0;34m)\u001b[0m\u001b[0;34m\u001b[0m\u001b[0;34m\u001b[0m\u001b[0m\n",
      "\u001b[0;32m/home/zaheer/anaconda3/envs/trans_generate/lib/python3.6/site-packages/tensorflow_core/python/keras/engine/training.py\u001b[0m in \u001b[0;36mfit\u001b[0;34m(self, x, y, batch_size, epochs, verbose, callbacks, validation_split, validation_data, shuffle, class_weight, sample_weight, initial_epoch, steps_per_epoch, validation_steps, validation_freq, max_queue_size, workers, use_multiprocessing, **kwargs)\u001b[0m\n\u001b[1;32m    726\u001b[0m         \u001b[0mmax_queue_size\u001b[0m\u001b[0;34m=\u001b[0m\u001b[0mmax_queue_size\u001b[0m\u001b[0;34m,\u001b[0m\u001b[0;34m\u001b[0m\u001b[0;34m\u001b[0m\u001b[0m\n\u001b[1;32m    727\u001b[0m         \u001b[0mworkers\u001b[0m\u001b[0;34m=\u001b[0m\u001b[0mworkers\u001b[0m\u001b[0;34m,\u001b[0m\u001b[0;34m\u001b[0m\u001b[0;34m\u001b[0m\u001b[0m\n\u001b[0;32m--> 728\u001b[0;31m         use_multiprocessing=use_multiprocessing)\n\u001b[0m\u001b[1;32m    729\u001b[0m \u001b[0;34m\u001b[0m\u001b[0m\n\u001b[1;32m    730\u001b[0m   def evaluate(self,\n",
      "\u001b[0;32m/home/zaheer/anaconda3/envs/trans_generate/lib/python3.6/site-packages/tensorflow_core/python/keras/engine/training_v2.py\u001b[0m in \u001b[0;36mfit\u001b[0;34m(self, model, x, y, batch_size, epochs, verbose, callbacks, validation_split, validation_data, shuffle, class_weight, sample_weight, initial_epoch, steps_per_epoch, validation_steps, validation_freq, **kwargs)\u001b[0m\n\u001b[1;32m    368\u001b[0m                       \u001b[0mmode\u001b[0m\u001b[0;34m=\u001b[0m\u001b[0mModeKeys\u001b[0m\u001b[0;34m.\u001b[0m\u001b[0mTEST\u001b[0m\u001b[0;34m,\u001b[0m\u001b[0;34m\u001b[0m\u001b[0;34m\u001b[0m\u001b[0m\n\u001b[1;32m    369\u001b[0m                       \u001b[0mtraining_context\u001b[0m\u001b[0;34m=\u001b[0m\u001b[0meval_context\u001b[0m\u001b[0;34m,\u001b[0m\u001b[0;34m\u001b[0m\u001b[0;34m\u001b[0m\u001b[0m\n\u001b[0;32m--> 370\u001b[0;31m                       total_epochs=1)\n\u001b[0m\u001b[1;32m    371\u001b[0m                   cbks.make_logs(model, epoch_logs, eval_result, ModeKeys.TEST,\n\u001b[1;32m    372\u001b[0m                                  prefix='val_')\n",
      "\u001b[0;32m/home/zaheer/anaconda3/envs/trans_generate/lib/python3.6/site-packages/tensorflow_core/python/keras/engine/training_v2.py\u001b[0m in \u001b[0;36mrun_one_epoch\u001b[0;34m(model, iterator, execution_function, dataset_size, batch_size, strategy, steps_per_epoch, num_samples, mode, training_context, total_epochs)\u001b[0m\n\u001b[1;32m    121\u001b[0m         step=step, mode=mode, size=current_batch_size) as batch_logs:\n\u001b[1;32m    122\u001b[0m       \u001b[0;32mtry\u001b[0m\u001b[0;34m:\u001b[0m\u001b[0;34m\u001b[0m\u001b[0;34m\u001b[0m\u001b[0m\n\u001b[0;32m--> 123\u001b[0;31m         \u001b[0mbatch_outs\u001b[0m \u001b[0;34m=\u001b[0m \u001b[0mexecution_function\u001b[0m\u001b[0;34m(\u001b[0m\u001b[0miterator\u001b[0m\u001b[0;34m)\u001b[0m\u001b[0;34m\u001b[0m\u001b[0;34m\u001b[0m\u001b[0m\n\u001b[0m\u001b[1;32m    124\u001b[0m       \u001b[0;32mexcept\u001b[0m \u001b[0;34m(\u001b[0m\u001b[0mStopIteration\u001b[0m\u001b[0;34m,\u001b[0m \u001b[0merrors\u001b[0m\u001b[0;34m.\u001b[0m\u001b[0mOutOfRangeError\u001b[0m\u001b[0;34m)\u001b[0m\u001b[0;34m:\u001b[0m\u001b[0;34m\u001b[0m\u001b[0;34m\u001b[0m\u001b[0m\n\u001b[1;32m    125\u001b[0m         \u001b[0;31m# TODO(kaftan): File bug about tf function and errors.OutOfRangeError?\u001b[0m\u001b[0;34m\u001b[0m\u001b[0;34m\u001b[0m\u001b[0;34m\u001b[0m\u001b[0m\n",
      "\u001b[0;32m/home/zaheer/anaconda3/envs/trans_generate/lib/python3.6/site-packages/tensorflow_core/python/keras/engine/training_v2_utils.py\u001b[0m in \u001b[0;36mexecution_function\u001b[0;34m(input_fn)\u001b[0m\n\u001b[1;32m     84\u001b[0m     \u001b[0;31m# `numpy` translates Tensors to values in Eager mode.\u001b[0m\u001b[0;34m\u001b[0m\u001b[0;34m\u001b[0m\u001b[0;34m\u001b[0m\u001b[0m\n\u001b[1;32m     85\u001b[0m     return nest.map_structure(_non_none_constant_value,\n\u001b[0;32m---> 86\u001b[0;31m                               distributed_function(input_fn))\n\u001b[0m\u001b[1;32m     87\u001b[0m \u001b[0;34m\u001b[0m\u001b[0m\n\u001b[1;32m     88\u001b[0m   \u001b[0;32mreturn\u001b[0m \u001b[0mexecution_function\u001b[0m\u001b[0;34m\u001b[0m\u001b[0;34m\u001b[0m\u001b[0m\n",
      "\u001b[0;32m/home/zaheer/anaconda3/envs/trans_generate/lib/python3.6/site-packages/tensorflow_core/python/eager/def_function.py\u001b[0m in \u001b[0;36m__call__\u001b[0;34m(self, *args, **kwds)\u001b[0m\n\u001b[1;32m    455\u001b[0m \u001b[0;34m\u001b[0m\u001b[0m\n\u001b[1;32m    456\u001b[0m     \u001b[0mtracing_count\u001b[0m \u001b[0;34m=\u001b[0m \u001b[0mself\u001b[0m\u001b[0;34m.\u001b[0m\u001b[0m_get_tracing_count\u001b[0m\u001b[0;34m(\u001b[0m\u001b[0;34m)\u001b[0m\u001b[0;34m\u001b[0m\u001b[0;34m\u001b[0m\u001b[0m\n\u001b[0;32m--> 457\u001b[0;31m     \u001b[0mresult\u001b[0m \u001b[0;34m=\u001b[0m \u001b[0mself\u001b[0m\u001b[0;34m.\u001b[0m\u001b[0m_call\u001b[0m\u001b[0;34m(\u001b[0m\u001b[0;34m*\u001b[0m\u001b[0margs\u001b[0m\u001b[0;34m,\u001b[0m \u001b[0;34m**\u001b[0m\u001b[0mkwds\u001b[0m\u001b[0;34m)\u001b[0m\u001b[0;34m\u001b[0m\u001b[0;34m\u001b[0m\u001b[0m\n\u001b[0m\u001b[1;32m    458\u001b[0m     \u001b[0;32mif\u001b[0m \u001b[0mtracing_count\u001b[0m \u001b[0;34m==\u001b[0m \u001b[0mself\u001b[0m\u001b[0;34m.\u001b[0m\u001b[0m_get_tracing_count\u001b[0m\u001b[0;34m(\u001b[0m\u001b[0;34m)\u001b[0m\u001b[0;34m:\u001b[0m\u001b[0;34m\u001b[0m\u001b[0;34m\u001b[0m\u001b[0m\n\u001b[1;32m    459\u001b[0m       \u001b[0mself\u001b[0m\u001b[0;34m.\u001b[0m\u001b[0m_call_counter\u001b[0m\u001b[0;34m.\u001b[0m\u001b[0mcalled_without_tracing\u001b[0m\u001b[0;34m(\u001b[0m\u001b[0;34m)\u001b[0m\u001b[0;34m\u001b[0m\u001b[0;34m\u001b[0m\u001b[0m\n",
      "\u001b[0;32m/home/zaheer/anaconda3/envs/trans_generate/lib/python3.6/site-packages/tensorflow_core/python/eager/def_function.py\u001b[0m in \u001b[0;36m_call\u001b[0;34m(self, *args, **kwds)\u001b[0m\n\u001b[1;32m    492\u001b[0m       \u001b[0;31m# In this case we have not created variables on the first call. So we can\u001b[0m\u001b[0;34m\u001b[0m\u001b[0;34m\u001b[0m\u001b[0;34m\u001b[0m\u001b[0m\n\u001b[1;32m    493\u001b[0m       \u001b[0;31m# run the first trace but we should fail if variables are created.\u001b[0m\u001b[0;34m\u001b[0m\u001b[0;34m\u001b[0m\u001b[0;34m\u001b[0m\u001b[0m\n\u001b[0;32m--> 494\u001b[0;31m       \u001b[0mresults\u001b[0m \u001b[0;34m=\u001b[0m \u001b[0mself\u001b[0m\u001b[0;34m.\u001b[0m\u001b[0m_stateful_fn\u001b[0m\u001b[0;34m(\u001b[0m\u001b[0;34m*\u001b[0m\u001b[0margs\u001b[0m\u001b[0;34m,\u001b[0m \u001b[0;34m**\u001b[0m\u001b[0mkwds\u001b[0m\u001b[0;34m)\u001b[0m\u001b[0;34m\u001b[0m\u001b[0;34m\u001b[0m\u001b[0m\n\u001b[0m\u001b[1;32m    495\u001b[0m       \u001b[0;32mif\u001b[0m \u001b[0mself\u001b[0m\u001b[0;34m.\u001b[0m\u001b[0m_created_variables\u001b[0m\u001b[0;34m:\u001b[0m\u001b[0;34m\u001b[0m\u001b[0;34m\u001b[0m\u001b[0m\n\u001b[1;32m    496\u001b[0m         raise ValueError(\"Creating variables on a non-first call to a function\"\n",
      "\u001b[0;32m/home/zaheer/anaconda3/envs/trans_generate/lib/python3.6/site-packages/tensorflow_core/python/eager/function.py\u001b[0m in \u001b[0;36m__call__\u001b[0;34m(self, *args, **kwargs)\u001b[0m\n\u001b[1;32m   1821\u001b[0m     \u001b[0;34m\"\"\"Calls a graph function specialized to the inputs.\"\"\"\u001b[0m\u001b[0;34m\u001b[0m\u001b[0;34m\u001b[0m\u001b[0m\n\u001b[1;32m   1822\u001b[0m     \u001b[0mgraph_function\u001b[0m\u001b[0;34m,\u001b[0m \u001b[0margs\u001b[0m\u001b[0;34m,\u001b[0m \u001b[0mkwargs\u001b[0m \u001b[0;34m=\u001b[0m \u001b[0mself\u001b[0m\u001b[0;34m.\u001b[0m\u001b[0m_maybe_define_function\u001b[0m\u001b[0;34m(\u001b[0m\u001b[0margs\u001b[0m\u001b[0;34m,\u001b[0m \u001b[0mkwargs\u001b[0m\u001b[0;34m)\u001b[0m\u001b[0;34m\u001b[0m\u001b[0;34m\u001b[0m\u001b[0m\n\u001b[0;32m-> 1823\u001b[0;31m     \u001b[0;32mreturn\u001b[0m \u001b[0mgraph_function\u001b[0m\u001b[0;34m.\u001b[0m\u001b[0m_filtered_call\u001b[0m\u001b[0;34m(\u001b[0m\u001b[0margs\u001b[0m\u001b[0;34m,\u001b[0m \u001b[0mkwargs\u001b[0m\u001b[0;34m)\u001b[0m  \u001b[0;31m# pylint: disable=protected-access\u001b[0m\u001b[0;34m\u001b[0m\u001b[0;34m\u001b[0m\u001b[0m\n\u001b[0m\u001b[1;32m   1824\u001b[0m \u001b[0;34m\u001b[0m\u001b[0m\n\u001b[1;32m   1825\u001b[0m   \u001b[0;34m@\u001b[0m\u001b[0mproperty\u001b[0m\u001b[0;34m\u001b[0m\u001b[0;34m\u001b[0m\u001b[0m\n",
      "\u001b[0;32m/home/zaheer/anaconda3/envs/trans_generate/lib/python3.6/site-packages/tensorflow_core/python/eager/function.py\u001b[0m in \u001b[0;36m_filtered_call\u001b[0;34m(self, args, kwargs)\u001b[0m\n\u001b[1;32m   1139\u001b[0m          if isinstance(t, (ops.Tensor,\n\u001b[1;32m   1140\u001b[0m                            resource_variable_ops.BaseResourceVariable))),\n\u001b[0;32m-> 1141\u001b[0;31m         self.captured_inputs)\n\u001b[0m\u001b[1;32m   1142\u001b[0m \u001b[0;34m\u001b[0m\u001b[0m\n\u001b[1;32m   1143\u001b[0m   \u001b[0;32mdef\u001b[0m \u001b[0m_call_flat\u001b[0m\u001b[0;34m(\u001b[0m\u001b[0mself\u001b[0m\u001b[0;34m,\u001b[0m \u001b[0margs\u001b[0m\u001b[0;34m,\u001b[0m \u001b[0mcaptured_inputs\u001b[0m\u001b[0;34m,\u001b[0m \u001b[0mcancellation_manager\u001b[0m\u001b[0;34m=\u001b[0m\u001b[0;32mNone\u001b[0m\u001b[0;34m)\u001b[0m\u001b[0;34m:\u001b[0m\u001b[0;34m\u001b[0m\u001b[0;34m\u001b[0m\u001b[0m\n",
      "\u001b[0;32m/home/zaheer/anaconda3/envs/trans_generate/lib/python3.6/site-packages/tensorflow_core/python/eager/function.py\u001b[0m in \u001b[0;36m_call_flat\u001b[0;34m(self, args, captured_inputs, cancellation_manager)\u001b[0m\n\u001b[1;32m   1222\u001b[0m     \u001b[0;32mif\u001b[0m \u001b[0mexecuting_eagerly\u001b[0m\u001b[0;34m:\u001b[0m\u001b[0;34m\u001b[0m\u001b[0;34m\u001b[0m\u001b[0m\n\u001b[1;32m   1223\u001b[0m       flat_outputs = forward_function.call(\n\u001b[0;32m-> 1224\u001b[0;31m           ctx, args, cancellation_manager=cancellation_manager)\n\u001b[0m\u001b[1;32m   1225\u001b[0m     \u001b[0;32melse\u001b[0m\u001b[0;34m:\u001b[0m\u001b[0;34m\u001b[0m\u001b[0;34m\u001b[0m\u001b[0m\n\u001b[1;32m   1226\u001b[0m       \u001b[0mgradient_name\u001b[0m \u001b[0;34m=\u001b[0m \u001b[0mself\u001b[0m\u001b[0;34m.\u001b[0m\u001b[0m_delayed_rewrite_functions\u001b[0m\u001b[0;34m.\u001b[0m\u001b[0mregister\u001b[0m\u001b[0;34m(\u001b[0m\u001b[0;34m)\u001b[0m\u001b[0;34m\u001b[0m\u001b[0;34m\u001b[0m\u001b[0m\n",
      "\u001b[0;32m/home/zaheer/anaconda3/envs/trans_generate/lib/python3.6/site-packages/tensorflow_core/python/eager/function.py\u001b[0m in \u001b[0;36mcall\u001b[0;34m(self, ctx, args, cancellation_manager)\u001b[0m\n\u001b[1;32m    509\u001b[0m               \u001b[0minputs\u001b[0m\u001b[0;34m=\u001b[0m\u001b[0margs\u001b[0m\u001b[0;34m,\u001b[0m\u001b[0;34m\u001b[0m\u001b[0;34m\u001b[0m\u001b[0m\n\u001b[1;32m    510\u001b[0m               \u001b[0mattrs\u001b[0m\u001b[0;34m=\u001b[0m\u001b[0;34m(\u001b[0m\u001b[0;34m\"executor_type\"\u001b[0m\u001b[0;34m,\u001b[0m \u001b[0mexecutor_type\u001b[0m\u001b[0;34m,\u001b[0m \u001b[0;34m\"config_proto\"\u001b[0m\u001b[0;34m,\u001b[0m \u001b[0mconfig\u001b[0m\u001b[0;34m)\u001b[0m\u001b[0;34m,\u001b[0m\u001b[0;34m\u001b[0m\u001b[0;34m\u001b[0m\u001b[0m\n\u001b[0;32m--> 511\u001b[0;31m               ctx=ctx)\n\u001b[0m\u001b[1;32m    512\u001b[0m         \u001b[0;32melse\u001b[0m\u001b[0;34m:\u001b[0m\u001b[0;34m\u001b[0m\u001b[0;34m\u001b[0m\u001b[0m\n\u001b[1;32m    513\u001b[0m           outputs = execute.execute_with_cancellation(\n",
      "\u001b[0;32m/home/zaheer/anaconda3/envs/trans_generate/lib/python3.6/site-packages/tensorflow_core/python/eager/execute.py\u001b[0m in \u001b[0;36mquick_execute\u001b[0;34m(op_name, num_outputs, inputs, attrs, ctx, name)\u001b[0m\n\u001b[1;32m     59\u001b[0m     tensors = pywrap_tensorflow.TFE_Py_Execute(ctx._handle, device_name,\n\u001b[1;32m     60\u001b[0m                                                \u001b[0mop_name\u001b[0m\u001b[0;34m,\u001b[0m \u001b[0minputs\u001b[0m\u001b[0;34m,\u001b[0m \u001b[0mattrs\u001b[0m\u001b[0;34m,\u001b[0m\u001b[0;34m\u001b[0m\u001b[0;34m\u001b[0m\u001b[0m\n\u001b[0;32m---> 61\u001b[0;31m                                                num_outputs)\n\u001b[0m\u001b[1;32m     62\u001b[0m   \u001b[0;32mexcept\u001b[0m \u001b[0mcore\u001b[0m\u001b[0;34m.\u001b[0m\u001b[0m_NotOkStatusException\u001b[0m \u001b[0;32mas\u001b[0m \u001b[0me\u001b[0m\u001b[0;34m:\u001b[0m\u001b[0;34m\u001b[0m\u001b[0;34m\u001b[0m\u001b[0m\n\u001b[1;32m     63\u001b[0m     \u001b[0;32mif\u001b[0m \u001b[0mname\u001b[0m \u001b[0;32mis\u001b[0m \u001b[0;32mnot\u001b[0m \u001b[0;32mNone\u001b[0m\u001b[0;34m:\u001b[0m\u001b[0;34m\u001b[0m\u001b[0;34m\u001b[0m\u001b[0m\n",
      "\u001b[0;31mKeyboardInterrupt\u001b[0m: "
     ]
    }
   ],
   "source": [
    "earlyStopping = tf.keras.callbacks.EarlyStopping(monitor='val_loss', patience=10, verbose=0, mode='min')\n",
    "reduce_lr_loss = tf.keras.callbacks.ReduceLROnPlateau(monitor='val_loss', factor=0.1, patience=7, verbose=1, epsilon=1e-4, mode='min')\n",
    "model.compile(optimizer='adam', loss='binary_crossentropy', metrics=[tf.keras.metrics.Precision(), tf.keras.metrics.Recall()\n",
    "])\n",
    "\n",
    "model.fit(train_features, y_train, epochs=100, callbacks=[earlyStopping],validation_data=(val_features, y_val), batch_size=16)\n",
    "\n",
    "test_tags=model.predict(test_features)\n",
    "val_tags=model.predict(val_features)"
   ]
  },
  {
   "cell_type": "code",
   "execution_count": null,
   "id": "97e51777",
   "metadata": {},
   "outputs": [],
   "source": [
    "test_tags=np.where(test_tags<0.50,0,1)\n",
    "test_tags.shape"
   ]
  },
  {
   "cell_type": "code",
   "execution_count": null,
   "id": "b9242131",
   "metadata": {},
   "outputs": [],
   "source": [
    "val_tags=np.where(val_tags<0.50,0,1)\n",
    "#val_tags"
   ]
  },
  {
   "cell_type": "code",
   "execution_count": null,
   "id": "9cfbf733",
   "metadata": {},
   "outputs": [],
   "source": [
    "y_test_0=np.where(y_test==-1.0,0,y_test)"
   ]
  },
  {
   "cell_type": "code",
   "execution_count": null,
   "id": "02def22d",
   "metadata": {},
   "outputs": [],
   "source": [
    "y_test_1=np.where(y_test==-1.0,1,y_test)"
   ]
  },
  {
   "cell_type": "code",
   "execution_count": null,
   "id": "94c6f6be",
   "metadata": {},
   "outputs": [],
   "source": [
    "#val_tags=[i[0] for i in val_tags.tolist()]\n",
    "#val_tags=pd.Series(val_tags)"
   ]
  },
  {
   "cell_type": "code",
   "execution_count": null,
   "id": "ca74cfdf",
   "metadata": {},
   "outputs": [],
   "source": [
    "#print(f1_score(y_test,test_tags))\n",
    "print(y_test.shape, test_tags.shape)"
   ]
  },
  {
   "cell_type": "code",
   "execution_count": null,
   "id": "5c0619ec",
   "metadata": {},
   "outputs": [],
   "source": [
    "#np.max(y_test_1[:,cidx])"
   ]
  },
  {
   "cell_type": "code",
   "execution_count": null,
   "id": "f5bdf6f3",
   "metadata": {},
   "outputs": [],
   "source": [
    "print(f1_score(pd.Series(y_test_1), pd.Series(test_tags[:,0])))"
   ]
  },
  {
   "cell_type": "code",
   "execution_count": null,
   "id": "69dc1794",
   "metadata": {},
   "outputs": [],
   "source": [
    "for cidx in range(y_test.shape[1]):\n",
    "    print(f1_score(pd.Series(y_test_0[:,cidx]), pd.Series(test_tags[:,cidx])))"
   ]
  },
  {
   "cell_type": "code",
   "execution_count": null,
   "id": "c16c0c63",
   "metadata": {},
   "outputs": [],
   "source": [
    "m=tf.keras.metrics.Recall()\n",
    "m.update_state(y_test,test_tags)\n",
    "m.result().numpy()"
   ]
  },
  {
   "cell_type": "code",
   "execution_count": null,
   "id": "c1aa30a3",
   "metadata": {},
   "outputs": [],
   "source": [
    "import pickle\n",
    "\n",
    "all_tags={}\n",
    "\n",
    "test_true = np.array(y_test)\n",
    "for idx,image in enumerate(images_test):\n",
    "    #all_tags[image.split('_')[0]]=test_tags[idx,:]\n",
    "    all_tags[image.split('_')[0]]=test_true[idx,:]\n",
    "\n",
    "val_true = np.array(y_val)\n",
    "for idx,image in enumerate(images_val):\n",
    "    #all_tags[image.split('_')[0]]=val_tags[idx,:]\n",
    "    all_tags[image.split('_')[0]]=val_true[idx,:]\n",
    "    \n",
    "train_true=np.array(y_train)\n",
    "for idx,image in enumerate(images_train):\n",
    "    all_tags[image.split('_')[0]]=train_true[idx,:]\n",
    "\n",
    "\n",
    "#print(all_tags['CXR3614'])\n",
    "#with open(path+'chexbert_true_chex_r2gen.pkl','wb') as file:\n",
    "#with open(path+'chexbert_dense_r2gen.pkl','wb') as file:\n",
    "    #pickle.dump(all_tags, file, protocol=2)\n",
    "    "
   ]
  },
  {
   "cell_type": "code",
   "execution_count": null,
   "id": "e8f03448",
   "metadata": {},
   "outputs": [],
   "source": []
  }
 ],
 "metadata": {
  "kernelspec": {
   "display_name": "Python 3",
   "language": "python",
   "name": "python3"
  },
  "language_info": {
   "codemirror_mode": {
    "name": "ipython",
    "version": 3
   },
   "file_extension": ".py",
   "mimetype": "text/x-python",
   "name": "python",
   "nbconvert_exporter": "python",
   "pygments_lexer": "ipython3",
   "version": "3.6.13"
  }
 },
 "nbformat": 4,
 "nbformat_minor": 5
}
