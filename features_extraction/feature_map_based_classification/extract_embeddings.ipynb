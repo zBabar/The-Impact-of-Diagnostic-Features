{
 "cells": [
  {
   "cell_type": "code",
   "execution_count": 1,
   "id": "2cc6f165-4ab2-42a0-b30b-dec29a4c37cb",
   "metadata": {},
   "outputs": [],
   "source": [
    "from gensim.models import KeyedVectors\n",
    "import numpy as np\n",
    "import pickle"
   ]
  },
  {
   "cell_type": "code",
   "execution_count": 2,
   "id": "95add772-6f38-4f04-a0f4-a1fef73e1414",
   "metadata": {},
   "outputs": [],
   "source": [
    "model = KeyedVectors.load_word2vec_format('/home/zaheer/pythonCode/embeddings/BioWordVec_PubMed_MIMICIII_d200.vec.bin', binary=True)"
   ]
  },
  {
   "cell_type": "code",
   "execution_count": 3,
   "id": "c3f90275-d9c9-4f3f-b037-8275a6f76043",
   "metadata": {},
   "outputs": [],
   "source": [
    "CLASS_NAMES = ['Atelectasis', 'Cardiomegaly', 'Effusion', 'Infiltration', 'Mass', 'Nodule', 'Pneumonia',\n",
    "                'Pneumothorax', 'Consolidation', 'Edema', 'Emphysema', 'Fibrosis', 'Hernia','normal']\n",
    "embeddings = {}\n",
    "embeddings['Pleural_Thickening'] = np.add(model['Thickening'.lower()],model['Pleural'.lower()])\n",
    "\n",
    "for cls in CLASS_NAMES:\n",
    "    embeddings[cls] = model[cls.lower()]"
   ]
  },
  {
   "cell_type": "code",
   "execution_count": 4,
   "id": "b8bde60a-2cfd-498a-bed8-f0e4e6468048",
   "metadata": {},
   "outputs": [],
   "source": [
    "with open('/home/zaheer/pythonCode/embeddings/pretrained_14disease_embeddings1.pickle', 'wb') as handle:\n",
    "    pickle.dump(embeddings, handle, protocol=2)"
   ]
  },
  {
   "cell_type": "code",
   "execution_count": 5,
   "id": "d0a56277-abcb-4ed5-9038-52690b0ce617",
   "metadata": {},
   "outputs": [],
   "source": [
    "CLASS_NAMES_bert = ['Cardiomegaly', 'Edema', 'Consolidation', 'Pneumonia',\n",
    "      'Atelectasis', 'Pneumothorax','Fracture']"
   ]
  },
  {
   "cell_type": "code",
   "execution_count": 6,
   "id": "1b93b0eb-e2e6-4474-9854-2c82644a1483",
   "metadata": {},
   "outputs": [],
   "source": [
    "embeddings = {}\n",
    "\n",
    "embeddings['Enlarged Cardiomediastinum'] = np.add(model['Enlarged'.lower()],model['Cardiomediastinum'.lower()])\n",
    "embeddings['Lung Opacity'] = np.add(model['Lung'.lower()],model['Opacity'.lower()])\n",
    "embeddings['Lung Lesion'] = np.add(model['Lung'.lower()],model['Lesion'.lower()])\n",
    "embeddings['Pleural Effusion'] = np.add(model['Pleural'.lower()],model['Effusion'.lower()])\n",
    "embeddings['Pleural Other'] = np.add(model['Pleural'.lower()],model['Other'.lower()])\n",
    "embeddings['Support Devices'] = np.add(model['Support'.lower()],model['Devices'.lower()])\n",
    "embeddings['No Finding'] = np.add(model['No'.lower()],model['Finding'.lower()])\n",
    "\n",
    "for cls in CLASS_NAMES_bert:\n",
    "    embeddings[cls] = model[cls.lower()]\n",
    "    \n",
    "with open('/home/zaheer/pythonCode/embeddings/pretrained_14disease_embeddings_bert.pickle', 'wb') as handle:\n",
    "    pickle.dump(embeddings, handle, protocol=2)"
   ]
  },
  {
   "cell_type": "code",
   "execution_count": null,
   "id": "6872c6f4-c074-4e2d-8132-942ac9dea2f6",
   "metadata": {},
   "outputs": [],
   "source": []
  }
 ],
 "metadata": {
  "kernelspec": {
   "display_name": "Python 3",
   "language": "python",
   "name": "python3"
  },
  "language_info": {
   "codemirror_mode": {
    "name": "ipython",
    "version": 3
   },
   "file_extension": ".py",
   "mimetype": "text/x-python",
   "name": "python",
   "nbconvert_exporter": "python",
   "pygments_lexer": "ipython3",
   "version": "3.6.13"
  }
 },
 "nbformat": 4,
 "nbformat_minor": 5
}
