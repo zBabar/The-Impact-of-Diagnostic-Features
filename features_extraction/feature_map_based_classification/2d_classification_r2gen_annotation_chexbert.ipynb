{
 "cells": [
  {
   "cell_type": "code",
   "execution_count": 1,
   "id": "ef3e1cee",
   "metadata": {},
   "outputs": [],
   "source": [
    "import pandas as pd\n",
    "import pickle\n",
    "import numpy as np\n",
    "import tensorflow as tf\n",
    "from tensorflow.keras import layers\n",
    "from sklearn.metrics import f1_score, roc_auc_score\n",
    "import json"
   ]
  },
  {
   "cell_type": "code",
   "execution_count": 2,
   "id": "c51ad65c",
   "metadata": {},
   "outputs": [],
   "source": [
    "#X = pd.read_csv('./IU_Xray/clean_data.csv')\n",
    "\n",
    "#Y = pd.read_csv('./IU_Xray/labeled_reports.csv')\n",
    "\n",
    "#Y['report_id'] = X['uid'].apply(lambda x: 'CXR'+str(x))\n",
    "\n",
    "#Y = Y[['report_id','Enlarged Cardiomediastinum', 'Cardiomegaly',\n",
    "#       'Lung Opacity', 'Lung Lesion', 'Edema', 'Consolidation', 'Pneumonia',\n",
    "#       'Atelectasis', 'Pneumothorax', 'Pleural Effusion', 'Pleural Other',\n",
    "#       'Fracture', 'Support Devices', 'No Finding']]#.to_csv('chexbert_labels.csv')\n",
    "\n",
    "#Y = Y.fillna(0)\n",
    "#Y.replace(-1,1)\n",
    "#Y.to_csv('./IU_Xray/chexbert_labels.csv')"
   ]
  },
  {
   "cell_type": "code",
   "execution_count": 3,
   "id": "a434a808-39af-48fc-8ca5-71683a90fe73",
   "metadata": {},
   "outputs": [],
   "source": [
    "labels_path = '../../IU_data/chexbert_labeling/'"
   ]
  },
  {
   "cell_type": "code",
   "execution_count": 4,
   "id": "34883c74",
   "metadata": {},
   "outputs": [],
   "source": [
    "X = pd.read_csv(labels_path+'report_impressions.csv')\n",
    "\n",
    "Y = pd.read_csv(labels_path+'labeled_reports.csv')\n",
    "\n",
    "Y['report_id'] = X['Id']\n",
    "\n",
    "Y = Y[['report_id','Enlarged Cardiomediastinum', 'Cardiomegaly',\n",
    "      'Lung Opacity', 'Lung Lesion', 'Edema', 'Consolidation', 'Pneumonia',\n",
    "      'Atelectasis', 'Pneumothorax', 'Pleural Effusion', 'Pleural Other',\n",
    "      'Fracture', 'Support Devices', 'No Finding']]#.to_csv('chexbert_labels.csv')\n",
    "\n",
    "Y = Y.fillna(0)\n",
    "Y = Y.replace(-1,1)\n",
    "Y.to_csv(labels_path+'chexbert_labels.csv')"
   ]
  },
  {
   "cell_type": "code",
   "execution_count": 5,
   "id": "87e70296-857c-4885-aa6b-8aea098d39b0",
   "metadata": {},
   "outputs": [],
   "source": [
    "path='/media/zaheer/Data/Image_Text_Datasets/IU_Xray/latest/One_Image_norm_abnorm_split/r2gen_annotations/'"
   ]
  },
  {
   "cell_type": "code",
   "execution_count": 6,
   "id": "be10f216",
   "metadata": {},
   "outputs": [],
   "source": [
    "with open(path+'images_features_2d_r2gen.pickle','rb') as features:\n",
    "#with open(path+'densenet_report_features.pkl','rb') as features:\n",
    "    data=pickle.load(features)"
   ]
  },
  {
   "cell_type": "code",
   "execution_count": 7,
   "id": "c5c345cb",
   "metadata": {},
   "outputs": [
    {
     "data": {
      "text/plain": [
       "(1, 7, 7, 1024)"
      ]
     },
     "execution_count": 7,
     "metadata": {},
     "output_type": "execute_result"
    }
   ],
   "source": [
    "data['CXR1'][0].shape"
   ]
  },
  {
   "cell_type": "code",
   "execution_count": 8,
   "id": "8df071fc-5ad5-4896-a4fd-565150766601",
   "metadata": {},
   "outputs": [],
   "source": [
    "feature_shape = 1024"
   ]
  },
  {
   "cell_type": "code",
   "execution_count": 9,
   "id": "404204a0",
   "metadata": {},
   "outputs": [],
   "source": [
    "def clean_r2gen_annotations():\n",
    "    \n",
    "    tags = pd.read_csv('./IU_Xray/chexbert_labels.csv')\n",
    "    \n",
    "    reports = tags['report_id'].tolist()\n",
    "    \n",
    "    #print(reports)\n",
    "    \n",
    "    with open(path+'annotation.json', 'rb') as f:\n",
    "        full_records = json.load(f)\n",
    "\n",
    "    splits=['train','val','test']\n",
    "    \n",
    "    new_images_records={}\n",
    "    \n",
    "    for s in splits:\n",
    "        new_records=[]\n",
    "        records=full_records[s]\n",
    "        for r in records:\n",
    "            for image in r['image_path']:\n",
    "                if image.split('_')[0] in reports: \n",
    "                    new_records.append(r)\n",
    "                    break\n",
    "                \n",
    "        new_images_records[s]=new_records\n",
    "        \n",
    "    with open(path+'new_annotation.json', 'w') as f:\n",
    "        json.dump(new_images_records , f, ensure_ascii = False )\n",
    "        \n",
    "    return new_images_records\n",
    "\n",
    "#annot = clean_r2gen_annotations()\n",
    "\n",
    "def fetch_tags(image_id, tags):\n",
    "\n",
    "    new_tags=[]\n",
    "    image_ids =[]\n",
    "\n",
    "    for image in image_id:\n",
    "        \n",
    "        \n",
    "        tag=(tags[tags.report_id == image.split('_')[0]][['Enlarged Cardiomediastinum', 'Cardiomegaly',\n",
    "       'Lung Opacity', 'Lung Lesion', 'Edema', 'Consolidation', 'Pneumonia',\n",
    "      'Atelectasis', 'Pneumothorax', 'Pleural Effusion', 'Pleural Other',\n",
    "      'Fracture', 'Support Devices', 'No Finding']])\n",
    "        if tag.shape[0] != 0:\n",
    "            tag = tag.values.tolist()[0]\n",
    "            image_ids.append(image)\n",
    "            new_tags.append(tag)\n",
    "\n",
    "    return image_ids, new_tags\n",
    "\n",
    "\n",
    "def convert_r2gen_annotations():\n",
    "    with open(path+'new_annotation.json', 'rb') as f:\n",
    "        full_records = json.load(f)\n",
    "\n",
    "    splits=['train','val','test']\n",
    "    \n",
    "    new_images_records={}\n",
    "    \n",
    "    for s in splits:\n",
    "        images=[]\n",
    "        records=full_records[s]\n",
    "        for r in records:\n",
    "            for image in r['image_path']:\n",
    "                images.append(image)\n",
    "                \n",
    "        new_images_records[s]=images\n",
    "    return new_images_records\n",
    "\n",
    "convert_r2gen_annotations()\n",
    "\n",
    "def load_preprocess_data():\n",
    "    tags = pd.read_csv(labels_path+'chexbert_labels.csv')\n",
    "    converted_records = convert_r2gen_annotations()\n",
    "    x_train = converted_records['train']\n",
    "    x_test = converted_records['test']\n",
    "    x_val = converted_records['val']\n",
    "    #print(train.shape, train.columns)\n",
    "\n",
    "    x_train, train_tags=fetch_tags(x_train,tags)\n",
    "    #print(train_tags)\n",
    "    #y_train = mlb.fit_transform([train_tags])\n",
    "    y_train=np.array(train_tags)\n",
    "    #print(y_train)\n",
    "\n",
    "    #print(y_train.head())\n",
    "    \n",
    "    \n",
    "    x_test, test_tags=fetch_tags(x_test,tags)\n",
    "    y_test = np.array(test_tags)\n",
    "    \n",
    "    \n",
    "    x_val, val_tags=fetch_tags(x_val,tags)\n",
    "    y_val = np.array(val_tags)\n",
    "    return x_train,y_train,x_test,y_test, x_val,y_val\n",
    "\n"
   ]
  },
  {
   "cell_type": "code",
   "execution_count": 10,
   "id": "5ef96af9",
   "metadata": {},
   "outputs": [],
   "source": [
    "def load_features(split):\n",
    "    features = []#np.empty((0,7,7,1024))\n",
    "    \n",
    "    for image in split:\n",
    "        #print(image)\n",
    "        report_id = image.split('_')[0]\n",
    "        image_id = image.split('.')[0].split('/')[1]\n",
    "        features.append(data[report_id][int(image_id)])\n",
    "    features=np.array(features)\n",
    "    features=np.reshape(features,(-1,49,feature_shape))\n",
    "    \n",
    "    return features"
   ]
  },
  {
   "cell_type": "code",
   "execution_count": 11,
   "id": "ce7c8305",
   "metadata": {},
   "outputs": [],
   "source": [
    "def class_model(n):\n",
    "    model = tf.keras.Sequential()\n",
    "    model.add(layers.Input(shape=(49,feature_shape)))\n",
    "    \n",
    "    model.add(layers.GlobalAveragePooling1D())\n",
    "    #model.add(layers.Dense(128,activation='relu'))\n",
    "    #model.add(layers.LeakyReLU(alpha=0.05))\n",
    "    #model.add(layers.Dense(64,activation='relu'))\n",
    "    #model.add(layers.Dropout(0.4))\n",
    "    model.add(layers.Dense(n, activation=\"sigmoid\"))\n",
    "\n",
    "    model.summary()\n",
    "    \n",
    "    return model\n",
    "\n"
   ]
  },
  {
   "cell_type": "code",
   "execution_count": 12,
   "id": "9f905bea",
   "metadata": {},
   "outputs": [],
   "source": [
    "images_train,y_train,images_test,y_test, images_val,y_val=load_preprocess_data()"
   ]
  },
  {
   "cell_type": "code",
   "execution_count": 13,
   "id": "bf412a48",
   "metadata": {},
   "outputs": [],
   "source": [
    "\n",
    "train_features=load_features(images_train)\n",
    "test_features=load_features(images_test)\n",
    "val_features=load_features(images_val)"
   ]
  },
  {
   "cell_type": "code",
   "execution_count": 14,
   "id": "d533823d",
   "metadata": {},
   "outputs": [
    {
     "data": {
      "text/plain": [
       "(4126, 14)"
      ]
     },
     "execution_count": 14,
     "metadata": {},
     "output_type": "execute_result"
    }
   ],
   "source": [
    "y_train.shape"
   ]
  },
  {
   "cell_type": "code",
   "execution_count": 15,
   "id": "1733cef8",
   "metadata": {},
   "outputs": [
    {
     "name": "stdout",
     "output_type": "stream",
     "text": [
      "Model: \"sequential\"\n",
      "_________________________________________________________________\n",
      "Layer (type)                 Output Shape              Param #   \n",
      "=================================================================\n",
      "global_average_pooling1d (Gl (None, 1024)              0         \n",
      "_________________________________________________________________\n",
      "dense (Dense)                (None, 14)                14350     \n",
      "=================================================================\n",
      "Total params: 14,350\n",
      "Trainable params: 14,350\n",
      "Non-trainable params: 0\n",
      "_________________________________________________________________\n"
     ]
    }
   ],
   "source": [
    "model=class_model(14)"
   ]
  },
  {
   "cell_type": "code",
   "execution_count": 16,
   "id": "dbb2e26a",
   "metadata": {},
   "outputs": [
    {
     "name": "stdout",
     "output_type": "stream",
     "text": [
      "WARNING:tensorflow:`epsilon` argument is deprecated and will be removed, use `min_delta` instead.\n",
      "Train on 4126 samples, validate on 592 samples\n",
      "Epoch 1/100\n",
      "4126/4126 [==============================] - 2s 412us/sample - loss: 0.1795 - precision: 0.6955 - recall: 0.6383 - auc: 0.8946 - val_loss: 0.1374 - val_precision: 0.7270 - val_recall: 0.6511 - val_auc: 0.9335\n",
      "Epoch 2/100\n",
      "4126/4126 [==============================] - 1s 188us/sample - loss: 0.1415 - precision: 0.7524 - recall: 0.6294 - auc: 0.9258 - val_loss: 0.1319 - val_precision: 0.7443 - val_recall: 0.6573 - val_auc: 0.9389\n",
      "Epoch 3/100\n",
      "4126/4126 [==============================] - 1s 189us/sample - loss: 0.1371 - precision: 0.7641 - recall: 0.6320 - auc: 0.9309 - val_loss: 0.1291 - val_precision: 0.7559 - val_recall: 0.6511 - val_auc: 0.9409\n",
      "Epoch 4/100\n",
      "4126/4126 [==============================] - 1s 189us/sample - loss: 0.1344 - precision: 0.7676 - recall: 0.6287 - auc: 0.9342 - val_loss: 0.1269 - val_precision: 0.7734 - val_recall: 0.6433 - val_auc: 0.9431\n",
      "Epoch 5/100\n",
      "4126/4126 [==============================] - 1s 192us/sample - loss: 0.1325 - precision: 0.7696 - recall: 0.6335 - auc: 0.9371 - val_loss: 0.1263 - val_precision: 0.7667 - val_recall: 0.6604 - val_auc: 0.9436\n",
      "Epoch 6/100\n",
      "4126/4126 [==============================] - 1s 188us/sample - loss: 0.1312 - precision: 0.7726 - recall: 0.6289 - auc: 0.9396 - val_loss: 0.1255 - val_precision: 0.7650 - val_recall: 0.6542 - val_auc: 0.9447\n",
      "Epoch 7/100\n",
      "4126/4126 [==============================] - 1s 187us/sample - loss: 0.1301 - precision: 0.7732 - recall: 0.6348 - auc: 0.9409 - val_loss: 0.1247 - val_precision: 0.7673 - val_recall: 0.6573 - val_auc: 0.9449\n",
      "Epoch 8/100\n",
      "4126/4126 [==============================] - 1s 184us/sample - loss: 0.1290 - precision: 0.7722 - recall: 0.6370 - auc: 0.9422 - val_loss: 0.1246 - val_precision: 0.7684 - val_recall: 0.6511 - val_auc: 0.9464\n",
      "Epoch 9/100\n",
      "4126/4126 [==============================] - 1s 188us/sample - loss: 0.1281 - precision: 0.7775 - recall: 0.6398 - auc: 0.9433 - val_loss: 0.1239 - val_precision: 0.7631 - val_recall: 0.6573 - val_auc: 0.9461\n",
      "Epoch 10/100\n",
      "4126/4126 [==============================] - 1s 188us/sample - loss: 0.1273 - precision: 0.7753 - recall: 0.6378 - auc: 0.9450 - val_loss: 0.1238 - val_precision: 0.7774 - val_recall: 0.6417 - val_auc: 0.9476\n",
      "Epoch 11/100\n",
      "4126/4126 [==============================] - 1s 187us/sample - loss: 0.1269 - precision: 0.7771 - recall: 0.6409 - auc: 0.9451 - val_loss: 0.1235 - val_precision: 0.7745 - val_recall: 0.6526 - val_auc: 0.9468\n",
      "Epoch 12/100\n",
      "4126/4126 [==============================] - 1s 192us/sample - loss: 0.1261 - precision: 0.7795 - recall: 0.6411 - auc: 0.9466 - val_loss: 0.1239 - val_precision: 0.7687 - val_recall: 0.6573 - val_auc: 0.9471\n",
      "Epoch 13/100\n",
      "4126/4126 [==============================] - 1s 186us/sample - loss: 0.1257 - precision: 0.7807 - recall: 0.6411 - auc: 0.9471 - val_loss: 0.1229 - val_precision: 0.7706 - val_recall: 0.6542 - val_auc: 0.9479\n",
      "Epoch 14/100\n",
      "4126/4126 [==============================] - 1s 189us/sample - loss: 0.1249 - precision: 0.7804 - recall: 0.6448 - auc: 0.9479 - val_loss: 0.1228 - val_precision: 0.7715 - val_recall: 0.6573 - val_auc: 0.9477\n",
      "Epoch 15/100\n",
      "4126/4126 [==============================] - 1s 189us/sample - loss: 0.1246 - precision: 0.7792 - recall: 0.6418 - auc: 0.9488 - val_loss: 0.1227 - val_precision: 0.7737 - val_recall: 0.6495 - val_auc: 0.9482\n",
      "Epoch 16/100\n",
      "4126/4126 [==============================] - 1s 190us/sample - loss: 0.1241 - precision: 0.7793 - recall: 0.6474 - auc: 0.9495 - val_loss: 0.1240 - val_precision: 0.7644 - val_recall: 0.6620 - val_auc: 0.9470\n",
      "Epoch 17/100\n",
      "4126/4126 [==============================] - 1s 192us/sample - loss: 0.1237 - precision: 0.7829 - recall: 0.6457 - auc: 0.9496 - val_loss: 0.1231 - val_precision: 0.7675 - val_recall: 0.6480 - val_auc: 0.9471\n",
      "Epoch 18/100\n",
      "4126/4126 [==============================] - 1s 191us/sample - loss: 0.1233 - precision: 0.7828 - recall: 0.6461 - auc: 0.9503 - val_loss: 0.1235 - val_precision: 0.7631 - val_recall: 0.6573 - val_auc: 0.9466\n",
      "Epoch 19/100\n",
      "4126/4126 [==============================] - 1s 187us/sample - loss: 0.1229 - precision: 0.7794 - recall: 0.6476 - auc: 0.9506 - val_loss: 0.1242 - val_precision: 0.7662 - val_recall: 0.6636 - val_auc: 0.9457\n",
      "Epoch 20/100\n",
      "4126/4126 [==============================] - 1s 190us/sample - loss: 0.1227 - precision: 0.7827 - recall: 0.6481 - auc: 0.9512 - val_loss: 0.1231 - val_precision: 0.7731 - val_recall: 0.6526 - val_auc: 0.9479\n",
      "Epoch 21/100\n",
      "4126/4126 [==============================] - 1s 188us/sample - loss: 0.1221 - precision: 0.7829 - recall: 0.6455 - auc: 0.9520 - val_loss: 0.1231 - val_precision: 0.7691 - val_recall: 0.6589 - val_auc: 0.9474\n",
      "Epoch 22/100\n",
      "4126/4126 [==============================] - 1s 186us/sample - loss: 0.1219 - precision: 0.7837 - recall: 0.6485 - auc: 0.9524 - val_loss: 0.1228 - val_precision: 0.7749 - val_recall: 0.6433 - val_auc: 0.9486\n",
      "Epoch 23/100\n",
      "4126/4126 [==============================] - 1s 189us/sample - loss: 0.1214 - precision: 0.7893 - recall: 0.6487 - auc: 0.9530 - val_loss: 0.1235 - val_precision: 0.7630 - val_recall: 0.6620 - val_auc: 0.9469\n",
      "Epoch 24/100\n",
      "4126/4126 [==============================] - 1s 188us/sample - loss: 0.1214 - precision: 0.7847 - recall: 0.6485 - auc: 0.9529 - val_loss: 0.1229 - val_precision: 0.7682 - val_recall: 0.6558 - val_auc: 0.9488\n",
      "Epoch 25/100\n",
      "4126/4126 [==============================] - 1s 188us/sample - loss: 0.1208 - precision: 0.7866 - recall: 0.6485 - auc: 0.9538 - val_loss: 0.1228 - val_precision: 0.7626 - val_recall: 0.6604 - val_auc: 0.9490\n"
     ]
    }
   ],
   "source": [
    "earlyStopping = tf.keras.callbacks.EarlyStopping(monitor='val_loss', patience=10, verbose=0, mode='min')\n",
    "reduce_lr_loss = tf.keras.callbacks.ReduceLROnPlateau(monitor='val_loss', factor=0.1, patience=7, verbose=1, epsilon=1e-4, mode='min')\n",
    "model.compile(optimizer='adam', loss='binary_crossentropy', metrics=[tf.keras.metrics.Precision(), tf.keras.metrics.Recall(), tf.keras.metrics.AUC()\n",
    "])\n",
    "\n",
    "model.fit(train_features, y_train, epochs=100, callbacks=[earlyStopping],validation_data=(val_features, y_val), batch_size=16)\n",
    "\n",
    "test_tags=model.predict(test_features)\n",
    "val_tags=model.predict(val_features)\n",
    "train_tag = model.predict(train_features)"
   ]
  },
  {
   "cell_type": "code",
   "execution_count": 17,
   "id": "97e51777",
   "metadata": {},
   "outputs": [
    {
     "data": {
      "text/plain": [
       "array([[3.3833385e-03, 1.8214971e-02, 4.4425726e-02, ..., 4.6948195e-03,\n",
       "        2.1142751e-02, 8.2641602e-01],\n",
       "       [1.0030299e-02, 7.2295278e-02, 7.8657329e-02, ..., 5.9010386e-03,\n",
       "        7.9286695e-03, 6.6443324e-01],\n",
       "       [2.6425719e-04, 8.4444880e-04, 9.5446408e-03, ..., 1.2635887e-03,\n",
       "        3.1249523e-03, 9.8386562e-01],\n",
       "       ...,\n",
       "       [5.0853491e-03, 2.1627516e-02, 1.0323793e-02, ..., 2.3558140e-03,\n",
       "        9.1944337e-03, 9.4369447e-01],\n",
       "       [9.6302629e-03, 1.5771538e-02, 4.3721288e-02, ..., 5.1297247e-03,\n",
       "        1.8338263e-03, 7.4064279e-01],\n",
       "       [9.5665753e-03, 5.6407660e-02, 5.9154421e-02, ..., 3.8816333e-03,\n",
       "        1.0374546e-02, 7.4696958e-01]], dtype=float32)"
      ]
     },
     "execution_count": 17,
     "metadata": {},
     "output_type": "execute_result"
    }
   ],
   "source": [
    "#test_tags=np.where(test_tags<0.50,0,1)\n",
    "test_tags"
   ]
  },
  {
   "cell_type": "code",
   "execution_count": 18,
   "id": "b9242131",
   "metadata": {},
   "outputs": [
    {
     "data": {
      "text/plain": [
       "array([[0.0126442 , 0.14028746, 0.1144709 , ..., 0.03314736, 0.01262876,\n",
       "        0.6204095 ],\n",
       "       [0.00951898, 0.08002225, 0.16328329, ..., 0.00737441, 0.00247383,\n",
       "        0.57513255],\n",
       "       [0.00702068, 0.09686702, 0.13626158, ..., 0.0145683 , 0.00466797,\n",
       "        0.5832921 ],\n",
       "       ...,\n",
       "       [0.02296054, 0.2169556 , 0.17006353, ..., 0.01215476, 0.00761154,\n",
       "        0.40859276],\n",
       "       [0.02245969, 0.94433063, 0.19485441, ..., 0.01793998, 0.09112912,\n",
       "        0.07793838],\n",
       "       [0.00580779, 0.03402773, 0.07120609, ..., 0.00333947, 0.01448455,\n",
       "        0.7839531 ]], dtype=float32)"
      ]
     },
     "execution_count": 18,
     "metadata": {},
     "output_type": "execute_result"
    }
   ],
   "source": [
    "#val_tags=np.where(val_tags<0.50,0,1)\n",
    "val_tags"
   ]
  },
  {
   "cell_type": "code",
   "execution_count": 19,
   "id": "9cfbf733",
   "metadata": {},
   "outputs": [],
   "source": [
    "y_test_0=np.where(y_test==-1.0,0,y_test)"
   ]
  },
  {
   "cell_type": "code",
   "execution_count": 20,
   "id": "02def22d",
   "metadata": {},
   "outputs": [],
   "source": [
    "y_test_1=np.where(y_test==-1.0,1,y_test)"
   ]
  },
  {
   "cell_type": "code",
   "execution_count": 21,
   "id": "94c6f6be",
   "metadata": {},
   "outputs": [],
   "source": [
    "#val_tags=[i[0] for i in val_tags.tolist()]\n",
    "#val_tags=pd.Series(val_tags)"
   ]
  },
  {
   "cell_type": "code",
   "execution_count": 22,
   "id": "ca74cfdf",
   "metadata": {},
   "outputs": [],
   "source": [
    "#print(f1_score(y_test,test_tags))"
   ]
  },
  {
   "cell_type": "code",
   "execution_count": 23,
   "id": "5c0619ec",
   "metadata": {},
   "outputs": [],
   "source": [
    "#np.max(y_test_1[:,cidx])"
   ]
  },
  {
   "cell_type": "code",
   "execution_count": 24,
   "id": "f5bdf6f3",
   "metadata": {},
   "outputs": [
    {
     "name": "stdout",
     "output_type": "stream",
     "text": [
      "0.6030769230769231\n",
      "0.8571297114252062\n",
      "0.7995568181818181\n",
      "0.6052479815455594\n",
      "0.9125843931543413\n",
      "0.6752346416382252\n",
      "0.813738344988345\n",
      "0.826288302844942\n",
      "0.6849801249290176\n",
      "0.950247668997669\n",
      "0.7791027825099376\n",
      "0.41198182850653037\n",
      "0.7321122273952463\n",
      "0.8148233074899627\n"
     ]
    }
   ],
   "source": [
    "for cidx in range(y_test.shape[1]):\n",
    "    print(roc_auc_score(pd.Series(y_test_1[:,cidx]), pd.Series(test_tags[:,cidx])))"
   ]
  },
  {
   "cell_type": "code",
   "execution_count": 25,
   "id": "69dc1794",
   "metadata": {},
   "outputs": [],
   "source": [
    "# for cidx in range(y_test.shape[1]):\n",
    "#     print(f1_score(pd.Series(y_test_0[:,cidx]), pd.Series(test_tags[:,cidx])))"
   ]
  },
  {
   "cell_type": "code",
   "execution_count": 26,
   "id": "c16c0c63",
   "metadata": {},
   "outputs": [
    {
     "data": {
      "text/plain": [
       "0.7271318"
      ]
     },
     "execution_count": 26,
     "metadata": {},
     "output_type": "execute_result"
    }
   ],
   "source": [
    "m=tf.keras.metrics.Recall()\n",
    "m.update_state(y_test,test_tags)\n",
    "m.result().numpy()"
   ]
  },
  {
   "cell_type": "code",
   "execution_count": 27,
   "id": "c1aa30a3",
   "metadata": {},
   "outputs": [],
   "source": [
    "import pickle\n",
    "\n",
    "all_tags={}\n",
    "all_reports = []\n",
    "test_true = np.array(y_test)\n",
    "for idx,image in enumerate(images_test):\n",
    "    all_tags[image.split('_')[0]] = test_tags[idx,:]\n",
    "    #all_tags[image] = test_tags[idx,:]\n",
    "    #all_tags[image.split('_')[0]]=test_true[idx,:]\n",
    "    all_reports.append(image.split('_')[0])\n",
    "\n",
    "val_true = np.array(y_val)\n",
    "for idx,image in enumerate(images_val):\n",
    "    all_tags[image.split('_')[0]] = val_tags[idx,:]\n",
    "    #all_tags[image] = val_tags[idx,:]\n",
    "    #all_tags[image.split('_')[0]]=val_true[idx,:]\n",
    "    all_reports.append(image.split('_')[0])\n",
    "    \n",
    "train_true=np.array(y_train)\n",
    "for idx,image in enumerate(images_train):\n",
    "    # all_tags[image.split('_')[0]]=train_true[idx,:]\n",
    "    all_tags[image.split('_')[0]] = train_tag[idx,:]\n",
    "    #all_tags[image] = train_tag[idx,:]\n",
    "    all_reports.append(image.split('_')[0])\n",
    "\n",
    "\n",
    "all_reports = list(set(all_reports))\n",
    "\n",
    "#print(all_tags['CXR3614'])\n",
    "with open(path+'chexbert_chex_r2gen.pkl','wb') as file:\n",
    "#with open(path+'chexbert_dense_r2gen.pkl','wb') as file:\n",
    "    pickle.dump(all_tags, file, protocol=2)\n",
    "    "
   ]
  },
  {
   "cell_type": "code",
   "execution_count": 28,
   "id": "3d28fee5",
   "metadata": {},
   "outputs": [
    {
     "name": "stdout",
     "output_type": "stream",
     "text": [
      "Empty array:\n",
      "[]\n",
      "After adding two new arrays:\n",
      "[[10 20 30]\n",
      " [40 50 60]]\n"
     ]
    }
   ],
   "source": [
    "import numpy as np    \n",
    "arr = np.empty((0,3), int)\n",
    "print(\"Empty array:\")\n",
    "print(arr)\n",
    "arr = np.append(arr, np.array([[10,20,30]]), axis=0)\n",
    "arr = np.append(arr, np.array([[40,50,60]]), axis=0)\n",
    "print(\"After adding two new arrays:\")\n",
    "print(arr)"
   ]
  },
  {
   "cell_type": "code",
   "execution_count": 29,
   "id": "78d029d6",
   "metadata": {},
   "outputs": [
    {
     "name": "stdout",
     "output_type": "stream",
     "text": [
      "[[3, 4], [3, 4]]\n"
     ]
    },
    {
     "data": {
      "text/plain": [
       "array([[10, 20, 30,  3,  3],\n",
       "       [40, 50, 60,  4,  4]])"
      ]
     },
     "execution_count": 29,
     "metadata": {},
     "output_type": "execute_result"
    }
   ],
   "source": [
    "B = 2*[[3,4]]\n",
    "A = arr\n",
    "print(B)\n",
    "np.insert(A,A.shape[1],B,axis=1)"
   ]
  },
  {
   "cell_type": "code",
   "execution_count": null,
   "id": "e8f03448",
   "metadata": {},
   "outputs": [],
   "source": []
  }
 ],
 "metadata": {
  "kernelspec": {
   "display_name": "Python 3",
   "language": "python",
   "name": "python3"
  },
  "language_info": {
   "codemirror_mode": {
    "name": "ipython",
    "version": 3
   },
   "file_extension": ".py",
   "mimetype": "text/x-python",
   "name": "python",
   "nbconvert_exporter": "python",
   "pygments_lexer": "ipython3",
   "version": "3.6.13"
  }
 },
 "nbformat": 4,
 "nbformat_minor": 5
}
