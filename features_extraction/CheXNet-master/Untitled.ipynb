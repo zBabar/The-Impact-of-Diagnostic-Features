{
 "cells": [
  {
   "cell_type": "code",
   "execution_count": 1,
   "id": "6251e2f0-f725-4011-aaed-1c14781be349",
   "metadata": {},
   "outputs": [],
   "source": [
    "import pickle"
   ]
  },
  {
   "cell_type": "code",
   "execution_count": 7,
   "id": "694931ed-9474-4c9d-a68a-37359fd587e4",
   "metadata": {},
   "outputs": [],
   "source": [
    "with open('images_features_2d.pickle','rb') as features:\n",
    "    data=pickle.load(features)"
   ]
  },
  {
   "cell_type": "code",
   "execution_count": 8,
   "id": "a33691be-67c2-4390-b9d9-186bb8221603",
   "metadata": {},
   "outputs": [
    {
     "data": {
      "text/plain": [
       "(1, 7, 7, 1024)"
      ]
     },
     "execution_count": 8,
     "metadata": {},
     "output_type": "execute_result"
    }
   ],
   "source": [
    "data['CXR1_1_IM-0001-3001.png'].shape"
   ]
  },
  {
   "cell_type": "code",
   "execution_count": null,
   "id": "900da06e-4ed9-42c6-a7da-6e6b00ef6745",
   "metadata": {},
   "outputs": [],
   "source": []
  }
 ],
 "metadata": {
  "kernelspec": {
   "display_name": "Python 3",
   "language": "python",
   "name": "python3"
  },
  "language_info": {
   "codemirror_mode": {
    "name": "ipython",
    "version": 3
   },
   "file_extension": ".py",
   "mimetype": "text/x-python",
   "name": "python",
   "nbconvert_exporter": "python",
   "pygments_lexer": "ipython3",
   "version": "3.6.13"
  }
 },
 "nbformat": 4,
 "nbformat_minor": 5
}
